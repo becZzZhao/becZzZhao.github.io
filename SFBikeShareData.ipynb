{
  "nbformat": 4,
  "nbformat_minor": 0,
  "metadata": {
    "colab": {
      "name": "SFBikeShareData",
      "provenance": [],
      "collapsed_sections": []
    },
    "kernelspec": {
      "display_name": "Python 3",
      "name": "python3"
    }
  },
  "cells": [
    {
      "cell_type": "code",
      "metadata": {
        "colab_type": "code",
        "id": "SeTJb51SKs_W",
        "colab": {
          "base_uri": "https://localhost:8080/",
          "height": 34
        },
        "outputId": "7739d444-57b9-4b5b-feb4-18c344825aa3"
      },
      "source": [
        "# connect to account\n",
        "from google.colab import auth\n",
        "auth.authenticate_user()\n",
        "print('Authenticated')"
      ],
      "execution_count": 5,
      "outputs": [
        {
          "output_type": "stream",
          "text": [
            "Authenticated\n"
          ],
          "name": "stdout"
        }
      ]
    },
    {
      "cell_type": "code",
      "metadata": {
        "colab_type": "code",
        "id": "LMNA-vBHPyHz",
        "colab": {}
      },
      "source": [
        "# enable display\n",
        "%load_ext google.colab.data_table "
      ],
      "execution_count": 7,
      "outputs": []
    },
    {
      "cell_type": "code",
      "metadata": {
        "id": "HS_YMd1vWkNd",
        "colab_type": "code",
        "colab": {}
      },
      "source": [
        "# Chunk processing: GCP as an upper limit for CPU usage, therefore I chunk process the dataset by date. \n",
        "# The function bellow takes a start date and an end date and produce a table retreiving data between these two dates. \n",
        "\n",
        "# start:  2013-08-29T12:00:00\n",
        "# end : 2015-08-31T23:00:00\n",
        "\n",
        "\n",
        "from google.cloud import bigquery\n",
        "client = bigquery.Client(project='sfbikeshare')\n",
        "\n",
        "\n",
        "def createChunk(start_date, end_date, table_id):\n",
        "  \n",
        "    job_config = bigquery.QueryJobConfig(\n",
        "        query_parameters=[\n",
        "            bigquery.ScalarQueryParameter(\"start_date\", \"STRING\", start_date),\n",
        "            bigquery.ScalarQueryParameter(\"end_date\", \"STRING\", end_date),\n",
        "        ]\n",
        "        ,\n",
        "        destination = table_id\n",
        "    )\n",
        "\n",
        "    df = client.query('''\n",
        "        WITH T AS\n",
        "        (SELECT * FROM sfbikeshare.statusJoinStationHrGeom WHERE DTHR BETWEEN @start_date AND @end_date)\n",
        "        SELECT T1.DTHR as time1, T1.station_id AS ID1, T2.station_id AS ID2, T2.DTHR as time2, \n",
        "              T1.bikes_available, T1.docks_available, \tT1.dock_count AS capacity, T1.lat AS lat1, \n",
        "              T1.long AS long1, T2.lat AS lat2, T2.long AS long2, T2.dock_count AS others_capacity \n",
        "        FROM T T1, T T2\n",
        "        WHERE (T1.station_id <> T2.station_id)  AND (TIME_DIFF(TIME(T1.DTHR), TIME(T2.DTHR), HOUR) =0) AND ((date_diff(DATE(T1.DTHR), DATE(T2.DTHR), DAY) =0))\n",
        "        ORDER BY time1, id1, id2\n",
        "    ''', job_config = job_config).to_dataframe()\n",
        "\n",
        "\n",
        "    print(\"Created table: \" + table_id)\n",
        "\n",
        "  "
      ],
      "execution_count": 14,
      "outputs": []
    },
    {
      "cell_type": "code",
      "metadata": {
        "id": "tjyqljOsW_qJ",
        "colab_type": "code",
        "colab": {
          "base_uri": "https://localhost:8080/",
          "height": 69
        },
        "outputId": "eecccc9f-bbcb-4c40-d758-abbd491c7fd0"
      },
      "source": [
        "# loop through the entire date range with an incremental of n days per chunk, and save each chunk table to a bigQuery table. \n",
        "\n",
        "\n",
        "import datetime\n",
        "start_date = datetime.datetime(2013, 8, 29, 0,0,0) \n",
        "delta = datetime.timedelta(days= 100)\n",
        "end_date = start_date + delta\n",
        "\n",
        "\n",
        "last_date = datetime.datetime(2015, 8, 31, 0, 0, 0)\n",
        "\n",
        "\n",
        "while end_date <= last_date:\n",
        "  \n",
        "    table_id= \"sfbikeshare.sfbikeshare.\" +  \"status_f_\" +  start_date.date().strftime('%Y%m%d') + \"_\" + end_date.date().strftime('%Y%m%d')  \n",
        "    \n",
        "    start_date_in = start_date.isoformat()\n",
        "    end_date_in = end_date.isoformat()\n",
        "\n",
        "    createChunk(start_date_in, end_date_in, table_id)\n",
        "\n",
        "    start_date = end_date\n",
        "    end_date += delta"
      ],
      "execution_count": null,
      "outputs": [
        {
          "output_type": "stream",
          "text": [
            "Created table: sfbikeshare.sfbikeshare.status_f_20130829_20131207\n",
            "Created table: sfbikeshare.sfbikeshare.status_f_20131207_20140317\n",
            "Created table: sfbikeshare.sfbikeshare.status_f_20140317_20140625\n"
          ],
          "name": "stdout"
        }
      ]
    },
    {
      "cell_type": "code",
      "metadata": {
        "id": "UC83rNnRlWrZ",
        "colab_type": "code",
        "colab": {
          "base_uri": "https://localhost:8080/",
          "height": 204
        },
        "outputId": "cb772494-45dc-4948-dc1d-5ec4daa34d76"
      },
      "source": [
        "# Union Chunk Tables\n",
        "from google.cloud import bigquery\n",
        "\n",
        "client = bigquery.Client(project='sfbikeshare')\n",
        "\n",
        "start_date = datetime.datetime(2013, 8, 29, 0, 0, 0).isoformat()\n",
        "last_date = datetime.datetime(2015, 8, 31, 0, 0, 0).isoformat()\n",
        "\n",
        "\n",
        "table_id = \"sfbikeshare.sfbikeshare.master_table_test\"\n",
        "table_to_insert = 'sfbikeshare.status_20130829_20131207'\n",
        "\n",
        "job_config = bigquery.QueryJobConfig(\n",
        "    query_parameters=[\n",
        "            bigquery.ScalarQueryParameter(\"start_date\", \"STRING\", start_date),\n",
        "            bigquery.ScalarQueryParameter(\"last_date\", \"STRING\", last_date),\n",
        "    ]\n",
        "    ,\n",
        "    destination = table_id\n",
        ")\n",
        "\n",
        "\n",
        "df = client.query('''\n",
        "    SELECT * FROM `sfbikeshare.sfbikeshare.status_*`\n",
        "    WHERE _TABLE_SUFFIX BETWEEN @start_date AND @last_date\n",
        "    \n",
        "  ''', job_config = job_config).to_dataframe()\n",
        "\n",
        "df.head()"
      ],
      "execution_count": null,
      "outputs": [
        {
          "output_type": "stream",
          "text": [
            "WARNING:google.auth._default:No project ID could be determined. Consider running `gcloud config set project` or setting the GOOGLE_CLOUD_PROJECT environment variable\n"
          ],
          "name": "stderr"
        },
        {
          "output_type": "execute_result",
          "data": {
            "application/vnd.google.colaboratory.module+javascript": "\n      import \"https://ssl.gstatic.com/colaboratory/data_table/a6224c040fa35dcf/data_table.js\";\n\n      window.createDataTable({\n        data: [[{\n            'v': 0,\n            'f': \"0\",\n        },\n\"2013-08-29 17:00:00\",\n{\n            'v': 3,\n            'f': \"3\",\n        },\n{\n            'v': 2,\n            'f': \"2\",\n        },\n\"2013-08-29 17:00:00\",\n{\n            'v': 10.0,\n            'f': \"10.0\",\n        },\n{\n            'v': 5.0,\n            'f': \"5.0\",\n        },\n{\n            'v': 15,\n            'f': \"15\",\n        },\n{\n            'v': 37.330698,\n            'f': \"37.330698\",\n        },\n{\n            'v': -121.888979,\n            'f': \"-121.888979\",\n        },\n{\n            'v': 37.329732,\n            'f': \"37.329732\",\n        },\n{\n            'v': -121.90178200000001,\n            'f': \"-121.90178200000001\",\n        },\n{\n            'v': 27,\n            'f': \"27\",\n        }],\n [{\n            'v': 1,\n            'f': \"1\",\n        },\n\"2013-09-02 05:00:00\",\n{\n            'v': 3,\n            'f': \"3\",\n        },\n{\n            'v': 2,\n            'f': \"2\",\n        },\n\"2013-09-02 05:00:00\",\n{\n            'v': 10.0,\n            'f': \"10.0\",\n        },\n{\n            'v': 5.0,\n            'f': \"5.0\",\n        },\n{\n            'v': 15,\n            'f': \"15\",\n        },\n{\n            'v': 37.330698,\n            'f': \"37.330698\",\n        },\n{\n            'v': -121.888979,\n            'f': \"-121.888979\",\n        },\n{\n            'v': 37.329732,\n            'f': \"37.329732\",\n        },\n{\n            'v': -121.90178200000001,\n            'f': \"-121.90178200000001\",\n        },\n{\n            'v': 27,\n            'f': \"27\",\n        }],\n [{\n            'v': 2,\n            'f': \"2\",\n        },\n\"2013-08-30 19:00:00\",\n{\n            'v': 3,\n            'f': \"3\",\n        },\n{\n            'v': 2,\n            'f': \"2\",\n        },\n\"2013-08-30 19:00:00\",\n{\n            'v': 8.0,\n            'f': \"8.0\",\n        },\n{\n            'v': 7.0,\n            'f': \"7.0\",\n        },\n{\n            'v': 15,\n            'f': \"15\",\n        },\n{\n            'v': 37.330698,\n            'f': \"37.330698\",\n        },\n{\n            'v': -121.888979,\n            'f': \"-121.888979\",\n        },\n{\n            'v': 37.329732,\n            'f': \"37.329732\",\n        },\n{\n            'v': -121.90178200000001,\n            'f': \"-121.90178200000001\",\n        },\n{\n            'v': 27,\n            'f': \"27\",\n        }],\n [{\n            'v': 3,\n            'f': \"3\",\n        },\n\"2013-08-29 19:00:00\",\n{\n            'v': 3,\n            'f': \"3\",\n        },\n{\n            'v': 2,\n            'f': \"2\",\n        },\n\"2013-08-29 19:00:00\",\n{\n            'v': 8.436363636363637,\n            'f': \"8.436363636363637\",\n        },\n{\n            'v': 6.5636363636363635,\n            'f': \"6.5636363636363635\",\n        },\n{\n            'v': 15,\n            'f': \"15\",\n        },\n{\n            'v': 37.330698,\n            'f': \"37.330698\",\n        },\n{\n            'v': -121.888979,\n            'f': \"-121.888979\",\n        },\n{\n            'v': 37.329732,\n            'f': \"37.329732\",\n        },\n{\n            'v': -121.90178200000001,\n            'f': \"-121.90178200000001\",\n        },\n{\n            'v': 27,\n            'f': \"27\",\n        }],\n [{\n            'v': 4,\n            'f': \"4\",\n        },\n\"2013-08-29 16:00:00\",\n{\n            'v': 3,\n            'f': \"3\",\n        },\n{\n            'v': 2,\n            'f': \"2\",\n        },\n\"2013-08-29 16:00:00\",\n{\n            'v': 9.381818181818183,\n            'f': \"9.381818181818183\",\n        },\n{\n            'v': 5.618181818181817,\n            'f': \"5.618181818181817\",\n        },\n{\n            'v': 15,\n            'f': \"15\",\n        },\n{\n            'v': 37.330698,\n            'f': \"37.330698\",\n        },\n{\n            'v': -121.888979,\n            'f': \"-121.888979\",\n        },\n{\n            'v': 37.329732,\n            'f': \"37.329732\",\n        },\n{\n            'v': -121.90178200000001,\n            'f': \"-121.90178200000001\",\n        },\n{\n            'v': 27,\n            'f': \"27\",\n        }]],\n        columns: [[\"number\", \"index\"], [\"string\", \"time1\"], [\"number\", \"ID1\"], [\"number\", \"ID2\"], [\"string\", \"time2\"], [\"number\", \"bikes_available\"], [\"number\", \"docks_available\"], [\"number\", \"capacity\"], [\"number\", \"lat1\"], [\"number\", \"long1\"], [\"number\", \"lat2\"], [\"number\", \"long2\"], [\"number\", \"others_capacity\"]],\n        columnOptions: [{\"width\": \"1px\", \"className\": \"index_column\"}],\n        rowsPerPage: 25,\n        helpUrl: \"https://colab.research.google.com/notebooks/data_table.ipynb\",\n        suppressOutputScrolling: true,\n        minimumWidth: undefined,\n      });\n    ",
            "text/html": [
              "<div>\n",
              "<style scoped>\n",
              "    .dataframe tbody tr th:only-of-type {\n",
              "        vertical-align: middle;\n",
              "    }\n",
              "\n",
              "    .dataframe tbody tr th {\n",
              "        vertical-align: top;\n",
              "    }\n",
              "\n",
              "    .dataframe thead th {\n",
              "        text-align: right;\n",
              "    }\n",
              "</style>\n",
              "<table border=\"1\" class=\"dataframe\">\n",
              "  <thead>\n",
              "    <tr style=\"text-align: right;\">\n",
              "      <th></th>\n",
              "      <th>time1</th>\n",
              "      <th>ID1</th>\n",
              "      <th>ID2</th>\n",
              "      <th>time2</th>\n",
              "      <th>bikes_available</th>\n",
              "      <th>docks_available</th>\n",
              "      <th>capacity</th>\n",
              "      <th>lat1</th>\n",
              "      <th>long1</th>\n",
              "      <th>lat2</th>\n",
              "      <th>long2</th>\n",
              "      <th>others_capacity</th>\n",
              "    </tr>\n",
              "  </thead>\n",
              "  <tbody>\n",
              "    <tr>\n",
              "      <th>0</th>\n",
              "      <td>2013-08-29 17:00:00</td>\n",
              "      <td>3</td>\n",
              "      <td>2</td>\n",
              "      <td>2013-08-29 17:00:00</td>\n",
              "      <td>10.000000</td>\n",
              "      <td>5.000000</td>\n",
              "      <td>15</td>\n",
              "      <td>37.330698</td>\n",
              "      <td>-121.888979</td>\n",
              "      <td>37.329732</td>\n",
              "      <td>-121.901782</td>\n",
              "      <td>27</td>\n",
              "    </tr>\n",
              "    <tr>\n",
              "      <th>1</th>\n",
              "      <td>2013-09-02 05:00:00</td>\n",
              "      <td>3</td>\n",
              "      <td>2</td>\n",
              "      <td>2013-09-02 05:00:00</td>\n",
              "      <td>10.000000</td>\n",
              "      <td>5.000000</td>\n",
              "      <td>15</td>\n",
              "      <td>37.330698</td>\n",
              "      <td>-121.888979</td>\n",
              "      <td>37.329732</td>\n",
              "      <td>-121.901782</td>\n",
              "      <td>27</td>\n",
              "    </tr>\n",
              "    <tr>\n",
              "      <th>2</th>\n",
              "      <td>2013-08-30 19:00:00</td>\n",
              "      <td>3</td>\n",
              "      <td>2</td>\n",
              "      <td>2013-08-30 19:00:00</td>\n",
              "      <td>8.000000</td>\n",
              "      <td>7.000000</td>\n",
              "      <td>15</td>\n",
              "      <td>37.330698</td>\n",
              "      <td>-121.888979</td>\n",
              "      <td>37.329732</td>\n",
              "      <td>-121.901782</td>\n",
              "      <td>27</td>\n",
              "    </tr>\n",
              "    <tr>\n",
              "      <th>3</th>\n",
              "      <td>2013-08-29 19:00:00</td>\n",
              "      <td>3</td>\n",
              "      <td>2</td>\n",
              "      <td>2013-08-29 19:00:00</td>\n",
              "      <td>8.436364</td>\n",
              "      <td>6.563636</td>\n",
              "      <td>15</td>\n",
              "      <td>37.330698</td>\n",
              "      <td>-121.888979</td>\n",
              "      <td>37.329732</td>\n",
              "      <td>-121.901782</td>\n",
              "      <td>27</td>\n",
              "    </tr>\n",
              "    <tr>\n",
              "      <th>4</th>\n",
              "      <td>2013-08-29 16:00:00</td>\n",
              "      <td>3</td>\n",
              "      <td>2</td>\n",
              "      <td>2013-08-29 16:00:00</td>\n",
              "      <td>9.381818</td>\n",
              "      <td>5.618182</td>\n",
              "      <td>15</td>\n",
              "      <td>37.330698</td>\n",
              "      <td>-121.888979</td>\n",
              "      <td>37.329732</td>\n",
              "      <td>-121.901782</td>\n",
              "      <td>27</td>\n",
              "    </tr>\n",
              "  </tbody>\n",
              "</table>\n",
              "</div>"
            ],
            "text/plain": [
              "                time1  ID1  ID2  ...       lat2       long2  others_capacity\n",
              "0 2013-08-29 17:00:00    3    2  ...  37.329732 -121.901782               27\n",
              "1 2013-09-02 05:00:00    3    2  ...  37.329732 -121.901782               27\n",
              "2 2013-08-30 19:00:00    3    2  ...  37.329732 -121.901782               27\n",
              "3 2013-08-29 19:00:00    3    2  ...  37.329732 -121.901782               27\n",
              "4 2013-08-29 16:00:00    3    2  ...  37.329732 -121.901782               27\n",
              "\n",
              "[5 rows x 12 columns]"
            ]
          },
          "metadata": {
            "tags": []
          },
          "execution_count": 7
        }
      ]
    },
    {
      "cell_type": "code",
      "metadata": {
        "id": "XoCftR09PnTx",
        "colab_type": "code",
        "colab": {
          "base_uri": "https://localhost:8080/",
          "height": 34
        },
        "outputId": "34ff5a82-2cb9-4fa8-8921-001d6196d5be"
      },
      "source": [
        "df.shape"
      ],
      "execution_count": null,
      "outputs": [
        {
          "output_type": "execute_result",
          "data": {
            "text/plain": [
              "(508032, 12)"
            ]
          },
          "metadata": {
            "tags": []
          },
          "execution_count": 8
        }
      ]
    }
  ]
}